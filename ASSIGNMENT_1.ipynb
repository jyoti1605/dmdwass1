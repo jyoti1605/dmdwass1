{
  "nbformat": 4,
  "nbformat_minor": 0,
  "metadata": {
    "colab": {
      "provenance": []
    },
    "kernelspec": {
      "name": "python3",
      "display_name": "Python 3"
    },
    "language_info": {
      "name": "python"
    }
  },
  "cells": [
    {
      "cell_type": "code",
      "execution_count": null,
      "metadata": {
        "id": "U-OtB7YPXJ4L",
        "colab": {
          "base_uri": "https://localhost:8080/"
        },
        "outputId": "e85b7dee-d0fc-492f-f547-64613ba34867"
      },
      "outputs": [
        {
          "output_type": "stream",
          "name": "stdout",
          "text": [
            "Mean is 44.285714285714285\n"
          ]
        }
      ],
      "source": [
        "l=[10,20,30,80,50,70,50]\n",
        "n=len(l)\n",
        "s=0\n",
        "for i in range(0,n):\n",
        "  s=s+l[i]\n",
        "mean=s/n\n",
        "print (\"Mean is\",mean)"
      ]
    },
    {
      "cell_type": "code",
      "source": [
        "l=[10,20,30,80,50,70,50]\n",
        "l.sort()\n",
        "n=len(l)\n",
        "if n%2==0:\n",
        "  m1=l[n//2]\n",
        "  m2=l[(n//2)-1]\n",
        "  median=(m1+m2)//2\n",
        "else:\n",
        "  median=l[n//2]\n",
        "print (\"Median is\",median)"
      ],
      "metadata": {
        "id": "4S5hRavpY0KM",
        "colab": {
          "base_uri": "https://localhost:8080/"
        },
        "outputId": "a1a7dc2f-f92d-4d95-fb70-1e35b4f5dae1"
      },
      "execution_count": null,
      "outputs": [
        {
          "output_type": "stream",
          "name": "stdout",
          "text": [
            "Median is 50\n"
          ]
        }
      ]
    },
    {
      "cell_type": "code",
      "source": [
        "l=[10,20,30,80,50,70,50]\n",
        "unique=[]\n",
        "mode=[]\n",
        "for i in l:\n",
        "  if i not in unique:\n",
        "    unique.append(i)\n",
        "  else:\n",
        "    mode.append(i)\n",
        "print(mode)"
      ],
      "metadata": {
        "id": "kw6mMNgpaWcC",
        "colab": {
          "base_uri": "https://localhost:8080/"
        },
        "outputId": "187da0c5-db89-49c7-9ba2-c9403ef64597"
      },
      "execution_count": null,
      "outputs": [
        {
          "output_type": "stream",
          "name": "stdout",
          "text": [
            "[50]\n"
          ]
        }
      ]
    },
    {
      "cell_type": "code",
      "source": [
        "#variance\n",
        "l=[10,20,30,80,50,70,50]\n",
        "l1=[]\n",
        "n=len(l)\n",
        "s=0\n",
        "s1=0\n",
        "for i in range(0,n):\n",
        "    s=s+l[i]\n",
        "mean=s/n\n",
        "for i in range(0,n):\n",
        "    l1.append(l[i]-mean)\n",
        "m=len(l1)\n",
        "for j in range(0,m):\n",
        "    l1[j]=l1[j]**2\n",
        "    s1=s1+l1[j]\n",
        "variance=s1/n\n",
        "print(variance)"
      ],
      "metadata": {
        "id": "2psrh8_HdJjm",
        "colab": {
          "base_uri": "https://localhost:8080/"
        },
        "outputId": "f789874f-2c71-4c9a-b204-be1ff74bd0c3"
      },
      "execution_count": 1,
      "outputs": [
        {
          "output_type": "stream",
          "name": "stdout",
          "text": [
            "567.3469387755101\n"
          ]
        }
      ]
    }
  ]
}